{
 "cells": [
  {
   "cell_type": "markdown",
   "source": [
    "# Exercises (Optional)"
   ],
   "metadata": {
    "colab_type": "text",
    "id": "0a8IYAJUshu1"
   }
  },
  {
   "cell_type": "markdown",
   "source": [
    "These exercises are not required to complete however are good to do for practice. (Not to be submitted on git)\n",
    "\n",
    "These exercises are a mix of Python and pandas/EDA practice. Most should be no more than a few lines of code! "
   ],
   "metadata": {}
  },
  {
   "cell_type": "code",
   "execution_count": 4,
   "source": [
    "import numpy as np"
   ],
   "outputs": [],
   "metadata": {}
  },
  {
   "cell_type": "code",
   "execution_count": 2,
   "source": [
    "# here is a Python list:\n",
    "\n",
    "a = [1, 2, 3, 4, 5, 6]\n",
    "\n",
    "# get a list containing the last 3 elements of a\n",
    "b = a[-3:]\n",
    "print(b)\n",
    "\n",
    "# reverse the list\n",
    "b = b[::-1]\n",
    "print(b)\n",
    "\n",
    "# get a list where each entry in a is squared (so the new list is [1, 4, 9, 16, 25, 36])\n",
    "squared = [i*i for i in a]\n",
    "print(squared)"
   ],
   "outputs": [
    {
     "output_type": "stream",
     "name": "stdout",
     "text": [
      "[4, 5, 6]\n",
      "[6, 5, 4]\n",
      "[1, 4, 9, 16, 25, 36]\n"
     ]
    }
   ],
   "metadata": {
    "colab": {},
    "colab_type": "code",
    "id": "Jo6wuTgkshu1"
   }
  },
  {
   "cell_type": "code",
   "execution_count": 5,
   "source": [
    "# create a numpy array from this list\n",
    "b = np.array(a)\n",
    "print(b)"
   ],
   "outputs": [
    {
     "output_type": "stream",
     "name": "stdout",
     "text": [
      "[1 2 3 4 5 6]\n"
     ]
    }
   ],
   "metadata": {
    "colab": {},
    "colab_type": "code",
    "id": "qANtg5kQshu2"
   }
  },
  {
   "cell_type": "code",
   "execution_count": 6,
   "source": [
    "# find the mean of b\n",
    "b.mean()"
   ],
   "outputs": [
    {
     "output_type": "execute_result",
     "data": {
      "text/plain": [
       "3.5"
      ]
     },
     "metadata": {},
     "execution_count": 6
    }
   ],
   "metadata": {
    "colab": {},
    "colab_type": "code",
    "id": "91CXRflLshu4"
   }
  },
  {
   "cell_type": "code",
   "execution_count": 7,
   "source": [
    "# get a list where each entry in b is squared (so the new numpy array is [1, 4, 9, 16, 25, 36])\n",
    "# use a different (numpy-specific) approach\n",
    "np.power(b, 2)"
   ],
   "outputs": [
    {
     "output_type": "execute_result",
     "data": {
      "text/plain": [
       "array([ 1,  4,  9, 16, 25, 36], dtype=int32)"
      ]
     },
     "metadata": {},
     "execution_count": 7
    }
   ],
   "metadata": {
    "colab": {},
    "colab_type": "code",
    "id": "ZJZFwzQfshu9"
   }
  },
  {
   "cell_type": "code",
   "execution_count": 12,
   "source": [
    "# change b from a length-6 list to a 2x3 matrix\n",
    "mat = np.reshape(b, (2, 3))\n",
    "print(mat)"
   ],
   "outputs": [
    {
     "output_type": "stream",
     "name": "stdout",
     "text": [
      "[[1 2 3]\n",
      " [4 5 6]]\n"
     ]
    }
   ],
   "metadata": {
    "colab": {},
    "colab_type": "code",
    "id": "ajbA5rCCshu5"
   }
  },
  {
   "cell_type": "code",
   "execution_count": 11,
   "source": [
    "# find the mean value of each row\n",
    "mat.mean(axis=1)"
   ],
   "outputs": [
    {
     "output_type": "execute_result",
     "data": {
      "text/plain": [
       "array([2., 5.])"
      ]
     },
     "metadata": {},
     "execution_count": 11
    }
   ],
   "metadata": {
    "colab": {},
    "colab_type": "code",
    "id": "wancU_PWshu6"
   }
  },
  {
   "cell_type": "code",
   "execution_count": 13,
   "source": [
    "# find the mean value of each column\n",
    "mat.mean(axis=0)"
   ],
   "outputs": [
    {
     "output_type": "execute_result",
     "data": {
      "text/plain": [
       "array([2.5, 3.5, 4.5])"
      ]
     },
     "metadata": {},
     "execution_count": 13
    }
   ],
   "metadata": {
    "colab": {},
    "colab_type": "code",
    "id": "N3hXBrBtshu7"
   }
  },
  {
   "cell_type": "code",
   "execution_count": 15,
   "source": [
    "# find the third column of b\n",
    "mat[:,2]"
   ],
   "outputs": [
    {
     "output_type": "execute_result",
     "data": {
      "text/plain": [
       "array([3, 6])"
      ]
     },
     "metadata": {},
     "execution_count": 15
    }
   ],
   "metadata": {
    "colab": {},
    "colab_type": "code",
    "id": "GvbO8gBXshu8"
   }
  },
  {
   "cell_type": "code",
   "execution_count": 23,
   "source": [
    "# load in the \"starbucks.csv\" dataset\n",
    "starbucks = np.genfromtxt(\"starbucks.csv\", delimiter = ',', dtype = None, encoding = 'utf-8')\n",
    "print(starbucks.shape)\n",
    "print(starbucks)"
   ],
   "outputs": [
    {
     "output_type": "stream",
     "name": "stdout",
     "text": [
      "(243, 18)\n",
      "[['beverage_category' 'beverage' 'beverage_prep' ... 'calcium' 'iron'\n",
      "  'caffeine']\n",
      " ['coffee' 'brewed coffee' 'Short' ... '0' '0' '175.0']\n",
      " ['coffee' 'brewed coffee' 'Tall' ... '0' '0' '260.0']\n",
      " ...\n",
      " ['frappuccino blended crme' 'vanilla bean (without whipped cream)'\n",
      "  'Whole Milk' ... '10' '0' '0.0']\n",
      " ['frappuccino blended crme' 'vanilla bean (without whipped cream)'\n",
      "  'Soymilk' ... '10' '6' '0.0']\n",
      " ['frappuccino blended crme' 'vanilla bean (without whipped cream)'\n",
      "  'Grande Nonfat Milk' ... '15' '0' '0.0']]\n"
     ]
    }
   ],
   "metadata": {
    "colab": {},
    "colab_type": "code",
    "id": "WzCQ5HOJshvA"
   }
  },
  {
   "cell_type": "code",
   "execution_count": null,
   "source": [
    "# this is nutritional info for starbucks items\n",
    "# let's see if we can answer some questions\n",
    "\n",
    "# what is the average # calories across all items?\n"
   ],
   "outputs": [],
   "metadata": {
    "colab": {},
    "colab_type": "code",
    "id": "rIoxaSxHshvB"
   }
  },
  {
   "cell_type": "code",
   "execution_count": null,
   "source": [
    "# how many different categories of beverages are there?\n"
   ],
   "outputs": [],
   "metadata": {
    "colab": {},
    "colab_type": "code",
    "id": "ABX7i49FshvD"
   }
  },
  {
   "cell_type": "code",
   "execution_count": null,
   "source": [
    "# what is the average # calories for each beverage category?\n"
   ],
   "outputs": [],
   "metadata": {
    "colab": {},
    "colab_type": "code",
    "id": "P9QatZAzshvE"
   }
  },
  {
   "cell_type": "code",
   "execution_count": null,
   "source": [
    "# what beverage preparation includes the most sugar on average?\n"
   ],
   "outputs": [],
   "metadata": {
    "colab": {},
    "colab_type": "code",
    "id": "y8KEpYNkshvG"
   }
  },
  {
   "cell_type": "code",
   "execution_count": null,
   "source": [
    "# what is the average % daily value calcium content for each beverage?\n"
   ],
   "outputs": [],
   "metadata": {
    "colab": {},
    "colab_type": "code",
    "id": "MnbCEJw8shvH"
   }
  },
  {
   "cell_type": "code",
   "execution_count": null,
   "source": [
    "# It's bulking season. What drink should Naitian get so that he maximizes protein but minimizes calories?\n",
    "# (you can use more than one line for this one)\n",
    "# there are multiple valid approaches you can take for this (with different answers)\n",
    "# I know that you want more calories for bulking season but whatever this is MDST, not Michigan Muscle Club okay\n"
   ],
   "outputs": [],
   "metadata": {
    "colab": {},
    "colab_type": "code",
    "id": "Nv5dksj_shvJ"
   }
  },
  {
   "cell_type": "code",
   "execution_count": null,
   "source": [
    "# plot the distribution of the number of calories in drinks using matplotlib\n"
   ],
   "outputs": [],
   "metadata": {}
  },
  {
   "cell_type": "code",
   "execution_count": null,
   "source": [
    "# plot the same distribution using seaborn. what about a density plot instead?\n"
   ],
   "outputs": [],
   "metadata": {}
  },
  {
   "cell_type": "code",
   "execution_count": null,
   "source": [
    "# plot calories against total fat using seaborn\n"
   ],
   "outputs": [],
   "metadata": {}
  },
  {
   "cell_type": "code",
   "execution_count": null,
   "source": [
    "# plot the distribution of calories in Short, Tall, Grande, and Venti drinks\n",
    "# (you can use multiple lines for this)\n",
    "# twist: you should also include the Nonfat Milk drinks that also have an associated size.\n",
    "\n",
    "# you can decide how you want to visualize this. Colors? Small multiples? Density vs histogram?\n",
    "# the starbucks is your oyster.\n"
   ],
   "outputs": [],
   "metadata": {}
  }
 ],
 "metadata": {
  "kernelspec": {
   "name": "python3",
   "display_name": "Python 3.9.0 64-bit"
  },
  "language_info": {
   "codemirror_mode": {
    "name": "ipython",
    "version": 3
   },
   "file_extension": ".py",
   "mimetype": "text/x-python",
   "name": "python",
   "nbconvert_exporter": "python",
   "pygments_lexer": "ipython3",
   "version": "3.9.0"
  },
  "interpreter": {
   "hash": "1829f6727cfd50cc2b28cfb4c3361c4127d6b937d4bd1de14de3ba12a0b61d85"
  }
 },
 "nbformat": 4,
 "nbformat_minor": 5
}